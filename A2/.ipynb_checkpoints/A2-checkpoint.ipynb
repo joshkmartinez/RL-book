{
 "cells": [
  {
   "cell_type": "code",
   "execution_count": 1,
   "metadata": {},
   "outputs": [],
   "source": [
    "import sys\n",
    "sys.path.append(\"../\")\n",
    "from dataclasses import dataclass\n",
    "from typing import Mapping, Dict, Tuple\n",
    "from rl.distribution import Categorical, FiniteDistribution, Constant\n",
    "from rl.markov_process import FiniteMarkovProcess, FiniteMarkovRewardProcess, NonTerminal \n",
    "import matplotlib.pyplot as plt\n",
    "import itertools"
   ]
  },
  {
   "cell_type": "markdown",
   "metadata": {},
   "source": [
    "# Problem 1"
   ]
  },
  {
   "cell_type": "markdown",
   "metadata": {},
   "source": [
    "## 1a\n",
    "$$ S_t = \\{0, 1, ... 100\\}\n",
    "\\newline\n",
    "T = S_{100}\n",
    "$$"
   ]
  },
  {
   "cell_type": "markdown",
   "metadata": {},
   "source": [
    "## 1b\n",
    "\n",
    "$$\\text{Transition probabilities of }S_t \\rightarrow S_{t+1} , S_{t+2}, ... S_{t+6}\n",
    "\\text{ is 1/6}\n",
    "$$"
   ]
  },
  {
   "cell_type": "markdown",
   "metadata": {},
   "source": [
    "## 1c"
   ]
  },
  {
   "cell_type": "code",
   "execution_count": 113,
   "metadata": {},
   "outputs": [],
   "source": [
    "@dataclass(frozen=True)\n",
    "class State:\n",
    "    position : int\n",
    "        \n",
    "class SnakesAndLaddersMP(FiniteMarkovProcess[State]):\n",
    "    \n",
    "    def __init__(self, ladders : Mapping[State, State]):\n",
    "        self.ladders = ladders\n",
    "        super().__init__(self.get_transition_map())\n",
    "\n",
    "\n",
    "    def get_transition_map(self) -> Mapping[State, FiniteDistribution[State]]:\n",
    "        d : Dict[State, FiniteDistribution[State]] = {}\n",
    "\n",
    "        # For every square on board\n",
    "        for state in range(0, 99):\n",
    "            # Map of destination probabilities from the current State\n",
    "            prob_map = {}\n",
    "            next_s = 0\n",
    "            \n",
    "            # For the next 6 spaces or, however many left are remaining\n",
    "            for i in range(state + 1, min(state + 7, 100)):\n",
    "                # By default the next state is simply the next sqace\n",
    "                next_s = i\n",
    "                \n",
    "                 # If the state is in ladders, then the next state must be the end of the ladder/snake\n",
    "                if i in self.ladders.keys():\n",
    "                    next_s = self.ladders[i]\n",
    "\n",
    "                prob_map[State(position = next_s)] = 1.0 / 6.0\n",
    "\n",
    "            # The distribution of the current state is the probability map\n",
    "            d[State(position = state)] = Categorical(prob_map)\n",
    "\n",
    "        return d"
   ]
  },
  {
   "cell_type": "code",
   "execution_count": 114,
   "metadata": {},
   "outputs": [],
   "source": [
    "# Map of the snake and ladder positions\n",
    "ladders = {1:38, 4:14, 8:30, 21:42, 28:76, 50:67, 71:92, 80:99, 97:78, 95:56, 88:24, 62:18, 48:26, 36:6, 32:10}\n",
    "\n",
    "game = SnakesAndLaddersMP(ladders)\n",
    "#print(game)\n",
    "\n",
    "start = Constant(value = NonTerminal(State(position = 0)))\n",
    "\n",
    "outcomes = [len([st for st in it]) for it in itertools.islice(game.traces(start), 10000)]\n"
   ]
  },
  {
   "cell_type": "markdown",
   "metadata": {},
   "source": [
    "## 1d"
   ]
  },
  {
   "cell_type": "code",
   "execution_count": 115,
   "metadata": {},
   "outputs": [
    {
     "data": {
      "image/png": "[encoded data removed]",
      "text/plain": [
       "<Figure size 432x288 with 1 Axes>"
      ]
     },
     "metadata": {
      "needs_background": "light"
     },
     "output_type": "display_data"
    }
   ],
   "source": [
    "\n",
    "plt.hist(outcomes)\n",
    "\n",
    "plt.xlabel(\"Steps\")\n",
    "plt.ylabel(\"Frequency\")\n",
    "plt.title(\"Steps Taken to finish Snakes and Ladders\")\n",
    "plt.show()"
   ]
  },
  {
   "cell_type": "markdown",
   "metadata": {},
   "source": [
    "## 1e"
   ]
  },
  {
   "cell_type": "code",
   "execution_count": 116,
   "metadata": {},
   "outputs": [],
   "source": [
    "class SnakesAndLaddersMRP(FiniteMarkovRewardProcess[State]):\n",
    "    \n",
    "    def __init__(self, ladders : Mapping[State, State]):\n",
    "        self.ladders = ladders\n",
    "        super().__init__(self.get_transition_reward_map())\n",
    "\n",
    "\n",
    "    def get_transition_reward_map(self) -> Mapping[State, FiniteDistribution[Tuple[State, float]]]:\n",
    "        # Now we want to return a dict which contains the prob and reward\n",
    "        d : Dict[State, FiniteDistribution[Tuple[State, float]]] = {}\n",
    "\n",
    "        # For every square on board\n",
    "        for state in range(0, 99):\n",
    "            # Map of destination probabilities from the current State\n",
    "            prob_map = {}\n",
    "            next_s = 0\n",
    "            \n",
    "            # For the next 6 spaces or, however many left are remaining\n",
    "            for i in range(state + 1, min(state + 7, 100)):\n",
    "                # By default the next state is simply the next sqace\n",
    "                next_s = i\n",
    "                \n",
    "                 # If the state is in ladders, then the next state must be the end of the ladder/snake\n",
    "                if i in self.ladders.keys():\n",
    "                    next_s = self.ladders[i]\n",
    "\n",
    "                # Reward of 1\n",
    "                prob_map[State(position = next_s), 1] = 1.0 / 6.0\n",
    "\n",
    "            # The distribution of the current state is the probability map\n",
    "            d[State(position = state)] = Categorical(prob_map)\n",
    "\n",
    "        return d"
   ]
  },
  {
   "cell_type": "code",
   "execution_count": 117,
   "metadata": {},
   "outputs": [
    {
     "name": "stdout",
     "output_type": "stream",
     "text": [
      "E of dice rools to finish snakes and ladders:\n",
      "E from V = 34.84122094688076\n",
      "E from prev simulation = 35.964\n"
     ]
    }
   ],
   "source": [
    "game2 = SnakesAndLaddersMRP(ladders)\n",
    "\n",
    "print(\"E of dice rools to finish snakes and ladders:\")\n",
    "print(\"E from V = \"+str(game2.get_value_function_vec(gamma=1)[0]))\n",
    "print(\"E from prev simulation = \" + str(sum(outcomes) / 10000))"
   ]
  },
  {
   "cell_type": "markdown",
   "metadata": {},
   "source": [
    "# Problem 2"
   ]
  },
  {
   "cell_type": "markdown",
   "metadata": {},
   "source": [
    "## 2a\n",
    "\n",
    "$$ \\text{State space: } \\newline S_t = \\{0,1,...,10\\}\n",
    "\\newline\n",
    "T = S_{10}\n",
    "\\newline\n",
    "\\text{Transition probabilities:} \\newline\n",
    "P(S_{t+1}|S_t) = \\sum_{i}^{10-t}{\\frac{1}{10-i}} \\newline\n",
    "\\text{The probability of the frog landing on any position in front of it is uniformly distributed amoung the remaining positions}\n",
    "$$"
   ]
  },
  {
   "cell_type": "markdown",
   "metadata": {},
   "source": [
    "## 2b\n",
    "\n",
    "By taking advantage of the uniformly distributed nature of the jumps, we can calculate the expected number of jumps.\n",
    "\n",
    "$$ E[\\text{# of pads}] = \\sum_{i}^{pads}{\\frac{1}{i+1}}\n",
    "$$"
   ]
  },
  {
   "cell_type": "code",
   "execution_count": 205,
   "metadata": {},
   "outputs": [],
   "source": [
    "def e_frog_jump(pads : int = 9):\n",
    "    e = 0\n",
    "    \n",
    "    for i in range(pads + 1):\n",
    "        e += 1.0 / (i + 1.0)\n",
    "        \n",
    "    return e"
   ]
  },
  {
   "cell_type": "markdown",
   "metadata": {},
   "source": [
    "## 2c\n",
    "Expected number of jumps the frog has to take from a pad, given a number of pads:"
   ]
  },
  {
   "cell_type": "code",
   "execution_count": 206,
   "metadata": {},
   "outputs": [
    {
     "name": "stdout",
     "output_type": "stream",
     "text": [
      "2.9289682539682538\n"
     ]
    }
   ],
   "source": [
    "# With 9 pads, the expected number of jumps from the start is:\n",
    "print(e_frog_jump(9))"
   ]
  },
  {
   "cell_type": "markdown",
   "metadata": {},
   "source": [
    "# Problem 3\n",
    "\n",
    "## 3a\n",
    "\n",
    "$$ V^{*}(s) = \\text{max}_{a \\in A}(R(s,a) + \\gamma \\sum_{s' \\in S} P(s, a, s')V^{*}(s')\n",
    "\\newline\n",
    "R(s,a)=a(1-a)+(1-a)(1+a) \\text{ since } R(s,a) = P(s, a, s+1)\n",
    "\\newline\n",
    "\\sum_{s' \\in S}{P(s,a,s')} = aV^*(s)+(1-a)\n",
    "\\newline\n",
    "V^*(s)=V^*(s')\n",
    "\\newline \\newline\n",
    "\\text{Plugging in:} \\newline\n",
    "V^{*}(s) = \\text{max}_{a \\in A}(a(1-a)+(1-a)(1+a) + 0.5(aV^{*}(s)+(1-a)V^{*}(s)))\n",
    "\\newline\n",
    "V^{*}(s) = \\text{max}_{a \\in A}(2a^2+a+1)\n",
    "$$\n",
    "\n",
    "## 3b\n",
    "$$\n",
    "\\text{Maximizing for a: } -4a+1=0\n",
    "\\newline a=\\frac{1}{4}\n",
    "\\newline \\therefore \\pi^*(s) \\text{ is when } a=\\frac{1}{4}\n",
    "$$"
   ]
  }
 ],
 "metadata": {
  "kernelspec": {
   "display_name": "Python 3",
   "language": "python",
   "name": "python3"
  },
  "language_info": {
   "codemirror_mode": {
    "name": "ipython",
    "version": 3
   },
   "file_extension": ".py",
   "mimetype": "text/x-python",
   "name": "python",
   "nbconvert_exporter": "python",
   "pygments_lexer": "ipython3",
   "version": "3.9.6"
  }
 },
 "nbformat": 4,
 "nbformat_minor": 4
}
