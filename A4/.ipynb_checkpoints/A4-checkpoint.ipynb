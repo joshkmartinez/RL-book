{
 "cells": [
  {
   "cell_type": "code",
   "execution_count": 46,
   "metadata": {},
   "outputs": [],
   "source": [
    "import numpy as np\n",
    "import matplotlib.pyplot as plt\n",
    "from typing import Iterator, Tuple, TypeVar, Sequence, List, Mapping\n",
    "from operator import itemgetter\n",
    "import itertools\n",
    "from rl.distribution import Distribution, Choose\n",
    "from rl.function_approx import FunctionApprox, Dynamic, Tabular\n",
    "from rl.iterate import iterate, converged\n",
    "from rl.markov_process import (FiniteMarkovRewardProcess, MarkovRewardProcess,\n",
    "                               RewardTransition, NonTerminal, State)\n",
    "from rl.markov_decision_process import (FiniteMarkovDecisionProcess,\n",
    "                                        MarkovDecisionProcess,\n",
    "                                        StateActionMapping)\n",
    "from rl.policy import Policy, DeterministicPolicy\n",
    "from rl.approximate_dynamic_programming import value_iteration, evaluate_mrp\n",
    "from rl.distribution import Categorical, Choose\n",
    "from rl.dynamic_programming import policy_iteration_result"
   ]
  },
  {
   "cell_type": "markdown",
   "metadata": {},
   "source": [
    "# Assignment 4\n",
    "https://github.com/joshkmartinez/RL-book/tree/master/A4"
   ]
  },
  {
   "cell_type": "markdown",
   "metadata": {},
   "source": [
    "# 1"
   ]
  },
  {
   "cell_type": "code",
   "execution_count": 82,
   "metadata": {},
   "outputs": [],
   "source": [
    "S = TypeVar('S')\n",
    "A = TypeVar('A')\n",
    "V = Mapping[NonTerminal[S], float]\n",
    "\n",
    "ValueFunctionApprox = FunctionApprox[NonTerminal[S]]\n",
    "QValueFunctionApprox = FunctionApprox[Tuple[NonTerminal[S], A]]\n",
    "NTStateDistribution = Distribution[NonTerminal[S]]\n",
    "\n",
    "def policy_iteration(\n",
    "    mdp: MarkovDecisionProcess[S, A],\n",
    "    γ: float,\n",
    "    approx_0: Tuple[ValueFunctionApprox[S], FinitePolicy[S, A]]\n",
    ") -> Iterator[ValueFunctionApprox[S]]:\n",
    "\n",
    "    def update(v_p: Tuple[ValueFunctionApprox[S], FinitePolicy[S, A]]) -> Tuple[ValueFunctionApprox[S], FiniteDeterministicPolicy[S, A]]:\n",
    "\n",
    "        v, pi = v_p # tuple decomposition\n",
    "        policies = {}\n",
    "        policy_v: ValueFunctionApprox[S] = evaluate_finite_mrp(mdp.apply_finite_policy(pi), γ, v)\n",
    "\n",
    "        for state in mdp.non_terminal_states:\n",
    "            q_values: Iterator[Tuple[A, float]] = ((a, mdp.mapping[state][a].expectation(\n",
    "                    lambda s_r: s_r[1] + γ * extended_v(v, s_r[0])\n",
    "                )) for a in mdp.actions(state))\n",
    "            policies[state] = max(q_values, key=itemgetter(1))[0]\n",
    " \n",
    "\n",
    "        return policy_v, FiniteDeterministicPolicy(policies)\n",
    "\n",
    "    return iterate(update, approx_0)"
   ]
  },
  {
   "cell_type": "markdown",
   "metadata": {},
   "source": [
    "# 2\n",
    "$$\\text{Expected Utility }E[U(x)] \\newline\n",
    "E[U(x)]= E[x - \\frac{\\alpha x^2}{2}] = E[x] - \\frac{\\alpha}{2}E[x^2]\n",
    "\\newline\n",
    "E[U(x)] = \\mu - \\frac{\\alpha}{2}(\\sigma^2+\\mu^2)\n",
    "\\\\[0.5in]\n",
    "\\text{Certainty-Equivalent Value } x_{CE} \\newline\n",
    "U(x_{CE}) = E[U(x)] \\newline x_{CE} = U^{-1}(E[U(x)])\n",
    "\\newline\n",
    "0 = \\frac{\\alpha x_{CE}^2}{2} - x_{CE} + \\mu - \\frac{\\alpha}{2} (\\mu^2 + \\sigma^2)\n",
    "\\newline\n",
    "x_{CE} = \\frac{1}{\\alpha} \\left(1 \\pm \\sqrt{1 - \\alpha(2\\mu - \\alpha(\\mu^2 + \\sigma^2))}\\right)\n",
    "\\\\[0.5in]\n",
    "\\text{Absolute Risk-Premium }\\pi_A \\newline\n",
    "\\pi_A = E[x] − x_{CE}\n",
    "\\newline\n",
    "\\pi_A = \\mu - \\frac{\\alpha}{2}(\\mu^2 + \\sigma^2) - \\frac{1}{\\alpha} \\left(1 \\pm \\sqrt{1 - \\alpha(2\\mu - \\alpha(\\mu^2 + \\sigma^2))}\\right).\n",
    "\\\\[0.5in]\n",
    "\\text{To optimize } z \\text{ given } \\alpha \\text{, we maximize } x_{CE}\n",
    "\\newline\n",
    "\\frac{\\partial x_{CE}}{\\partial \\pi} \\implies \\pi^* =  \\frac{(1-\\alpha r)(\\mu - r)}{2\\alpha ((\\mu - r)^2 + \\sigma^2)}\n",
    "\\newline\n",
    "\\therefore Z^* = 1000000 \\times  \\frac{(1-\\alpha r)(\\mu - r)}{2\\alpha ((\\mu - r)^2 + \\sigma^2)}\n",
    "\\newline\n",
    "$$"
   ]
  },
  {
   "cell_type": "code",
   "execution_count": 7,
   "metadata": {},
   "outputs": [
    {
     "data": {
      "image/png": "[encoded data removed]",
      "text/plain": [
       "<Figure size 432x288 with 1 Axes>"
      ]
     },
     "metadata": {
      "needs_background": "light"
     },
     "output_type": "display_data"
    }
   ],
   "source": [
    "mu = 0.2\n",
    "sigma = 0.3 ** 2\n",
    "risk_free_return = 0.075\n",
    "\n",
    "z_s = lambda mu, sigma, risk_free_return, alpha : 10000000 * (1 - alpha * risk_free_return) * (mu - risk_free_return) / 2 * alpha * ((mu - risk_free_return)**2 + sigma)\n",
    "\n",
    "alpha = np.linspace(0.0, 15)\n",
    "z = z_s(mu, sigma, risk_free_return, alpha)\n",
    "\n",
    "plt.plot(alpha, z)\n",
    "plt.scatter(alpha, z)\n",
    "\n",
    "plt.xlabel(\"alpha\")\n",
    "plt.ylabel(\"z\")\n",
    "plt.show()"
   ]
  },
  {
   "cell_type": "markdown",
   "metadata": {},
   "source": [
    "# 3"
   ]
  },
  {
   "cell_type": "markdown",
   "metadata": {},
   "source": [
    "$$ \\text{The 2 outcomes of W after a single bet are: } W_0(1+f \\cdot \\alpha) \\text{ and } W_0(1-f \\cdot \\beta)\n",
    "\\newline\n",
    "log(W_1) = log(W_0) + \\begin{cases}\n",
    "log(1+f \\cdot \\alpha)\\\\\n",
    "log(1-f \\cdot \\beta)\n",
    "\\end{cases}\n",
    "\\newline\n",
    "E[log(W_1)] = log(W_0)+p \\cdot log(1+f\\cdot \\alpha) + (1-p)(1-f\\cdot \\beta)\n",
    "\\newline\n",
    "\\frac{\\partial E[log(W_1)]}{\\partial f} = \\frac{p \\cdot \\alpha}{1+f\\cdot \\alpha} - \\frac{(1-p) \\cdot \\beta}{1-f\\cdot \\beta}\n",
    "\\newline\n",
    "\\implies f^* = \\frac{p}{\\beta} - \\frac{1-p}{\\alpha}\n",
    "$$\n",
    "This makes intuative sense since if your probability of winning is lower, you want to invest less, and vice versa for investing more if your probabilty of winning is higher."
   ]
  },
  {
   "cell_type": "code",
   "execution_count": null,
   "metadata": {},
   "outputs": [],
   "source": []
  }
 ],
 "metadata": {
  "kernelspec": {
   "display_name": "Python 3",
   "language": "python",
   "name": "python3"
  },
  "language_info": {
   "codemirror_mode": {
    "name": "ipython",
    "version": 3
   },
   "file_extension": ".py",
   "mimetype": "text/x-python",
   "name": "python",
   "nbconvert_exporter": "python",
   "pygments_lexer": "ipython3",
   "version": "3.9.6"
  },
  "vscode": {
   "interpreter": {
    "hash": "33f88445a6650c5aa5545670993382a89d43337db8ba881e33794e90389cebc1"
   }
  }
 },
 "nbformat": 4,
 "nbformat_minor": 4
}
