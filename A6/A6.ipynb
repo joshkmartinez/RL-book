{
 "cells": [
  {
   "cell_type": "markdown",
   "metadata": {},
   "source": [
    "# A5\n",
    "https://github.com/joshkmartinez/RL-book/tree/master/A6"
   ]
  },
  {
   "cell_type": "markdown",
   "metadata": {},
   "source": [
    "# 1\n",
    "$$\n",
    "V(t,S_t,W,I)=E[-e^{-\\gamma\\cdot (W+I\\cdot S_T)}|(t,S_t]\n",
    "\\newline\n",
    "=-e^{-\\gamma\\cdot W}E[e^{-\\gamma I \\cdot S_T}|(t,S_t)]\n",
    "\\newline\n",
    "=-e^{-\\gamma\\cdot W-\\gamma I S_T + \\frac{\\sigma^2\\gamma^2I^2(T-t)}{2}}\n",
    "\\\\ \\text{Indifference Bid Price} \\\\\n",
    "V(t,S_t,W-Q^{(b)}(t,S_t,I),I+1)=V(t,S_t,W,I)\n",
    "\\\\\n",
    "-e^{-\\gamma\\cdot (W-Q^{b}(t,S_t,I)) -\\gamma (I+1) S_T + \\frac{\\sigma^2\\gamma^2I^2(T-t)}{2}} = -e^{-\\gamma\\cdot W-\\gamma I S_T + \\frac{\\sigma^2\\gamma^2I^2(T-t)}{2}}\n",
    "\\\\\n",
    "-\\gamma\\cdot (W-Q^{b}(t,S_t,I)) -\\gamma (I+1) S_T + \\frac{\\sigma^2\\gamma^2I^2(T-t)}{2} = -\\gamma\\cdot W-\\gamma I S_T + \\frac{\\sigma^2\\gamma^2I^2(T-t)}{2}\n",
    "\\\\ \\text{Indifference Ask Price} \\\\\n",
    "V(t,S_t,W+Q^{(b)}(t,S_t,I),I-1)=V(t,S_t,W,I)\n",
    "\\\\\n",
    "-e^{-\\gamma\\cdot (W+Q^{b}(t,S_t,I)) -\\gamma (I-1) S_T + \\frac{\\sigma^2\\gamma^2I^2(T-t)}{2}} = -e^{-\\gamma\\cdot W-\\gamma I S_T + \\frac{\\sigma^2\\gamma^2I^2(T-t)}{2}}\n",
    "\\\\\n",
    "-\\gamma\\cdot (W+Q^{b}(t,S_t,I)) -\\gamma (I-1) S_T + \\frac{\\sigma^2\\gamma^2I^2(T-t)}{2} = -\\gamma\\cdot W-\\gamma I S_T + \\frac{\\sigma^2\\gamma^2I^2(T-t)}{2}\n",
    "$$"
   ]
  },
  {
   "cell_type": "markdown",
   "metadata": {},
   "source": [
    "# 2"
   ]
  },
  {
   "cell_type": "code",
   "execution_count": 125,
   "metadata": {},
   "outputs": [],
   "source": [
    "from dataclasses import dataclass\n",
    "from rl.distribution import (Constant, Categorical, Uniform, Distribution, FiniteDistribution, Bernoulli, SampledDistribution)\n",
    "from rl.markov_process import MarkovProcess, State, NonTerminal\n",
    "from rl.markov_decision_process import MarkovDecisionProcess\n",
    "from rl.chapter9.order_book import OrderBook, DollarsAndShares\n",
    "from rl.policy import Policy\n",
    "from typing import Callable, Sequence, Tuple, Iterator\n",
    "import numpy as np\n",
    "import itertools\n",
    "import matplotlib.pyplot as plt\n",
    "import copy as cp"
   ]
  },
  {
   "cell_type": "code",
   "execution_count": 126,
   "metadata": {},
   "outputs": [],
   "source": [
    "@dataclass(frozen=True)\n",
    "class SharePrice:\n",
    "    shares: int # continuous time, so always 1 share\n",
    "    price: float\n",
    "\n",
    "@dataclass(frozen=True)\n",
    "class Action:\n",
    "    bid: SharePrice\n",
    "    ask: SharePrice\n",
    "A = Action\n",
    "\n",
    "class StateMarketMaker:\n",
    "    mid_price: float = 100\n",
    "    inv = 0\n",
    "    PnL: float = 0\n",
    "    spread: float = 1\n",
    "S = StateMarketMaker"
   ]
  },
  {
   "cell_type": "code",
   "execution_count": 160,
   "metadata": {},
   "outputs": [],
   "source": [
    "class OptimalMarketMaker(MarkovDecisionProcess[S, A]):\n",
    "    # Avallaneda-Stoikov's params\n",
    "    t = 0.\n",
    "    T = 1.\n",
    "    d_t = 0.005\n",
    "    γ = 0.1\n",
    "    σ = 2.\n",
    "    k = 1.5\n",
    "    c = 140\n",
    "    \n",
    "    def step(\n",
    "        self,\n",
    "        state: NonTerminal[S],\n",
    "        action: A\n",
    "    ) -> SampledDistribution[Tuple[State[S], float]]:\n",
    "        \n",
    "        p_a: float = self.c * np.exp(-self.k * float(((1 - 2 * state.state.inv) * self.γ * self.σ**2 * (self.T - self.t) / 2) + 1 / self.γ * np.log(1 + self.γ/self.k))) * self.d_t\n",
    "        p_b: float = self.c * np.exp(-self.k * float(((2 * state.state.inv + 1) * self.γ * self.σ**2 * (self.T - self.t) / 2) + 1 / self.γ * np.log(1 + self.γ/self.k))) * self.d_t\n",
    "\n",
    "        def sr_sampler_func(\n",
    "            state = state,\n",
    "            action = action,\n",
    "            p_a = p_a,\n",
    "            p_b = p_b\n",
    "        ) -> Tuple[State[S], float]:\n",
    "            \n",
    "            next_state = cp.deepcopy(state.state)\n",
    "            next_state.inv = state.state.inv\n",
    "            next_state.PnL = state.state.PnL\n",
    "            next_state.mid_price = state.state.mid_price\n",
    "            next_state.spread = action.ask.price - action.bid.price # or bid-ask?\n",
    "\n",
    "            if Bernoulli(0.5).sample(): # update mid price\n",
    "                next_state.mid_price += self.σ * np.sqrt(self.d_t)\n",
    "            else:\n",
    "                next_state.mid_price -= self.σ * np.sqrt(self.d_t)\n",
    "            \n",
    "            if Bernoulli(p_b).sample():\n",
    "                next_state.inv += 1 # inv up\n",
    "                next_state.PnL -= action.bid.price # pnl decrease\n",
    "            if Bernoulli(p_a).sample():\n",
    "                next_state.inv -= 1 #inv down\n",
    "                next_state.PnL += action.ask.price # pnl increase\n",
    "\n",
    "            return (NonTerminal(next_state), next_state.PnL)\n",
    "        \n",
    "        self.t += self.d_t\n",
    "        return SampledDistribution(sr_sampler_func)\n",
    "\n",
    "    def actions(self, state : NonTerminal[S]) -> Iterator[A]:\n",
    "        \n",
    "        action = Action(bid=SharePrice(price = float(state.state.mid_price - (2 * state.state.I - 1) - self.γ * self.σ**2 * (self.T - self.t) / 2) - 1 / self.γ * np.log(1 + self.γ/self.k), shares = 1), \n",
    "                        ask=SharePrice(price = float(state.state.mid_price - (2 * state.state.I - 1) + self.γ * self.σ**2 * (self.T - self.t) / 2) + 1 / self.γ * np.log(1 + self.γ/self.k)), shares = 1)\n",
    "\n",
    "        return iter([action])"
   ]
  },
  {
   "cell_type": "code",
   "execution_count": 161,
   "metadata": {},
   "outputs": [],
   "source": [
    "class OptimalPolicy(Policy):\n",
    "    T = 1.\n",
    "    d_t = 0.005\n",
    "    t = 0.\n",
    "    γ = 0.1\n",
    "    σ = 2\n",
    "    k = 1.5\n",
    "    def act(self, state: NonTerminal[S]) -> Distribution[A]:\n",
    "        action = MarketAction(bid=PriceAndShares(price = float(state.state.mid_price - (2 * state.state.inv - 1) - self.γ * self.σ**2 * (self.T - self.t) / 2) - 1 / self.γ * np.log(1 + self.γ/self.k), shares = 1), \n",
    "                                 ask=PriceAndShares(price = float(state.state.mid_price - (2 * state.state.inv - 1) + self.γ * self.σ**2 * (self.T - self.t) / 2) + 1 / self.γ * np.log(1 + self.γ/self.k), shares = 1))\n",
    "        \n",
    "        return Constant(action)"
   ]
  },
  {
   "cell_type": "code",
   "execution_count": 162,
   "metadata": {},
   "outputs": [],
   "source": [
    "class NaiveMarketMaker(MarkovDecisionProcess[S, A]):\n",
    "    inv = 0\n",
    "    spread: float\n",
    "    # Avallaneda-Stoikov's params\n",
    "    t = 0.\n",
    "    T = 1.\n",
    "    d_t = 0.005\n",
    "    γ = 0.1\n",
    "    σ = 2.\n",
    "    k = 1.5\n",
    "    c = 140\n",
    "    \n",
    "    def step(\n",
    "        self,\n",
    "        state: NonTerminal[S],\n",
    "        action: A\n",
    "    ) -> SampledDistribution[Tuple[State[S], float]]:\n",
    "        \n",
    "        p_a: float = self.c * np.exp(-self.k * float(((1 - 2 * state.state.inv) * self.γ * self.σ**2 * (self.T - self.t) / 2) + 1 / self.γ * np.log(1 + self.γ/self.k))) * self.d_t\n",
    "        p_b: float = self.c * np.exp(-self.k * float(((2 * state.state.inv + 1) * self.γ * self.σ**2 * (self.T - self.t) / 2) + 1 / self.γ * np.log(1 + self.γ/self.k))) * self.d_t\n",
    "\n",
    "        def sr_sampler_func(\n",
    "            state = state,\n",
    "            action = action,\n",
    "            p_a = p_a,\n",
    "            p_b = p_b\n",
    "        ) -> Tuple[State[S], float]:\n",
    "            \n",
    "            next_state = cp.deepcopy(state.state)\n",
    "            next_state.inv = state.state.inv\n",
    "            next_state.PnL = state.state.PnL\n",
    "            next_state.mid_price = state.state.mid_price\n",
    "            next_state.spread = action.ask.price - action.bid.price # or bid-ask?\n",
    "\n",
    "            if Bernoulli(0.5).sample(): # update mid price\n",
    "                next_state.mid_price += self.σ * np.sqrt(self.d_t)\n",
    "            else:\n",
    "                next_state.mid_price -= self.σ * np.sqrt(self.d_t)\n",
    "            \n",
    "            if Bernoulli(p_b).sample():\n",
    "                next_state.inv += 1 # inv up\n",
    "                next_state.PnL -= action.bid.price # pnl decrease\n",
    "            if Bernoulli(p_a).sample():\n",
    "                next_state.inv -= 1 #inv down\n",
    "                next_state.PnL += action.ask.price # pnl increase\n",
    "\n",
    "            return (NonTerminal(next_state), next_state.PnL)\n",
    "        \n",
    "        self.t += self.d_t\n",
    "        return SampledDistribution(sr_sampler_func)\n",
    "\n",
    "    def actions(self, state : NonTerminal[S]) -> Iterator[A]:\n",
    "        action: A = MarketAction(bid=PriceAndShares(price = float(state.state.mid_price - self.spread/2), shares = 1), \n",
    "                                 ask=PriceAndShares(price = float(state.state.mid_price + self.spread/2), shares = 1))\n",
    "\n",
    "        return iter([action])"
   ]
  },
  {
   "cell_type": "code",
   "execution_count": 163,
   "metadata": {},
   "outputs": [],
   "source": [
    "class NaivePolicy(Policy):\n",
    "    T = 1.\n",
    "    d_t = 0.005\n",
    "    t = 0.\n",
    "    γ = 0.1\n",
    "    σ = 2\n",
    "    k = 1.5\n",
    "    spread = 1.\n",
    "\n",
    "    def act(self, state: NonTerminal[S]) -> Distribution[A]:\n",
    "        action = MarketAction(bid=PriceAndShares(price = float(state.state.mid_price - self.spread / 2), shares = 1), \n",
    "                                 ask=PriceAndShares(price = float(state.state.mid_price + self.spread / 2), shares = 1))\n",
    "        \n",
    "        return Constant(action)"
   ]
  },
  {
   "cell_type": "code",
   "execution_count": 164,
   "metadata": {},
   "outputs": [
    {
     "name": "stderr",
     "output_type": "stream",
     "text": [
      "<ipython-input-160-9469064dd6ea>:17: RuntimeWarning: overflow encountered in double_scalars\n",
      "  p_a: float = self.c * np.exp(-self.k * float(((1 - 2 * state.state.inv) * self.γ * self.σ**2 * (self.T - self.t) / 2) + 1 / self.γ * np.log(1 + self.γ/self.k))) * self.d_t\n",
      "<ipython-input-160-9469064dd6ea>:17: RuntimeWarning: overflow encountered in exp\n",
      "  p_a: float = self.c * np.exp(-self.k * float(((1 - 2 * state.state.inv) * self.γ * self.σ**2 * (self.T - self.t) / 2) + 1 / self.γ * np.log(1 + self.γ/self.k))) * self.d_t\n",
      "<ipython-input-160-9469064dd6ea>:18: RuntimeWarning: overflow encountered in double_scalars\n",
      "  p_b: float = self.c * np.exp(-self.k * float(((2 * state.state.inv + 1) * self.γ * self.σ**2 * (self.T - self.t) / 2) + 1 / self.γ * np.log(1 + self.γ/self.k))) * self.d_t\n",
      "<ipython-input-160-9469064dd6ea>:18: RuntimeWarning: overflow encountered in exp\n",
      "  p_b: float = self.c * np.exp(-self.k * float(((2 * state.state.inv + 1) * self.γ * self.σ**2 * (self.T - self.t) / 2) + 1 / self.γ * np.log(1 + self.γ/self.k))) * self.d_t\n",
      "<ipython-input-162-5ade92347855>:20: RuntimeWarning: overflow encountered in double_scalars\n",
      "  p_b: float = self.c * np.exp(-self.k * float(((2 * state.state.inv + 1) * self.γ * self.σ**2 * (self.T - self.t) / 2) + 1 / self.γ * np.log(1 + self.γ/self.k))) * self.d_t\n",
      "<ipython-input-162-5ade92347855>:20: RuntimeWarning: overflow encountered in exp\n",
      "  p_b: float = self.c * np.exp(-self.k * float(((2 * state.state.inv + 1) * self.γ * self.σ**2 * (self.T - self.t) / 2) + 1 / self.γ * np.log(1 + self.γ/self.k))) * self.d_t\n",
      "<ipython-input-162-5ade92347855>:19: RuntimeWarning: overflow encountered in double_scalars\n",
      "  p_a: float = self.c * np.exp(-self.k * float(((1 - 2 * state.state.inv) * self.γ * self.σ**2 * (self.T - self.t) / 2) + 1 / self.γ * np.log(1 + self.γ/self.k))) * self.d_t\n",
      "<ipython-input-162-5ade92347855>:19: RuntimeWarning: overflow encountered in exp\n",
      "  p_a: float = self.c * np.exp(-self.k * float(((1 - 2 * state.state.inv) * self.γ * self.σ**2 * (self.T - self.t) / 2) + 1 / self.γ * np.log(1 + self.γ/self.k))) * self.d_t\n"
     ]
    },
    {
     "data": {
      "text/plain": [
       "Text(0.5, 1.0, 'Samples of Optimal (green) vs Naive (blue) Mid Price (bid-ask)')"
      ]
     },
     "execution_count": 164,
     "metadata": {},
     "output_type": "execute_result"
    },
    {
     "data": {
      "image/png": "[encoded data removed]",
      "text/plain": [
       "<Figure size 432x288 with 1 Axes>"
      ]
     },
     "metadata": {
      "needs_background": "light"
     },
     "output_type": "display_data"
    },
    {
     "data": {
      "image/png": "[encoded data removed]",
      "text/plain": [
       "<Figure size 432x288 with 1 Axes>"
      ]
     },
     "metadata": {
      "needs_background": "light"
     },
     "output_type": "display_data"
    }
   ],
   "source": [
    "traces = 1000\n",
    "\n",
    "optimal_samples = [list(itertools.islice(generator, traces))\n",
    "           for generator\n",
    "           in list(itertools.islice(OptimalMarketMaker().action_traces(Constant(NonTerminal(StateMarketMaker())), OptimalPolicy()), traces))]\n",
    "\n",
    "for PnL in [[step.state.state.PnL for step in sample_path] for sample_path in optimal_samples]: # Optimal PnL traces\n",
    "    plt.plot(PnL, color=\"green\")\n",
    "\n",
    "naive_policy.spread = float(np.mean([np.mean(spread)\n",
    "                                     for spread\n",
    "                                     in [[step.state.state.spread for step in sample_path] for sample_path in optimal_samples]]))\n",
    "\n",
    "naive_samples = [list(itertools.islice(generator, traces))\n",
    "           for generator\n",
    "           in list(itertools.islice(NaiveMarketMaker().action_traces(Constant(NonTerminal(StateMarketMaker())), NaivePolicy()), traces))]\n",
    "\n",
    "for PnL in [[step.state.state.PnL for step in sample_path] for sample_path in naive_samples]: # Naive PnL Traces\n",
    "    plt.plot(PnL, color=\"blue\")\n",
    "\n",
    "plt.title(\"Samples of Optimal (green) vs Naive (blue) PnL\")\n",
    "plt.figure().clear()\n",
    "\n",
    "# mid = bid - ask\n",
    "plt.plot([step.state.state.mid_price for step in optimal_samples[0]], color = \"green\") # optimal mid prices\n",
    "plt.plot([step.state.state.mid_price for step in naive_samples[0]], color = \"blue\") # naive mid prices\n",
    "plt.title(\"Samples of Optimal (green) vs Naive (blue) Mid Price (bid-ask)\")"
   ]
  },
  {
   "cell_type": "markdown",
   "metadata": {},
   "source": [
    "# 3"
   ]
  },
  {
   "cell_type": "code",
   "execution_count": 205,
   "metadata": {},
   "outputs": [],
   "source": [
    "import itertools\n",
    "from typing import Iterator, TypeVar, Callable, Iterable, Mapping\n",
    "from rl.distribution import Choose\n",
    "from rl.markov_process import NonTerminal, State, ReturnStep, TransitionStep\n",
    "from rl.returns import returns\n",
    "from rl.function_approx import learning_rate_schedule\n",
    "from rl.chapter2.simple_inventory_mrp import SimpleInventoryMRPFinite\n",
    "from rl.chapter10.prediction_utils import fmrp_episodes_stream, unit_experiences_from_episodes\n",
    "import rl.iterate as iterate\n",
    "from pprint import pprint\n",
    "\n",
    "S = TypeVar(\"S\")\n",
    "TabularValueFunctionApprox = Mapping[NonTerminal[S], float]"
   ]
  },
  {
   "cell_type": "code",
   "execution_count": 221,
   "metadata": {},
   "outputs": [],
   "source": [
    "def tabular_MC_update(\n",
    "        v_f: TabularValueFunctionApprox,\n",
    "        counts: Mapping[NonTerminal[S], int],\n",
    "        steps: Iterable[ReturnStep[S]],\n",
    "        weight: Callable[[int], float]\n",
    "):\n",
    "    for i in steps:\n",
    "        counts[i.state] += 1\n",
    "        v_f[i.state] += weight(counts[i.state]) * (i.return_ - v_f[i.state])\n",
    "\n",
    "\n",
    "def tabular_MC(\n",
    "        traces: Iterable[Iterable[TransitionStep]],\n",
    "        approx_0: TabularValueFunctionApprox,\n",
    "        gamma: float,\n",
    "        episode_length_tolerance: float = 1e-6\n",
    ") -> Iterator[TabularValueFunctionApprox[S]]:\n",
    "    episodes: Iterator[Iterator[ReturnStep[S]]] = (returns(trace, gamma, episode_length_tolerance) for trace in traces)\n",
    "    f = approx_0\n",
    "    counts: Mapping[NonTerminal[S], int] = {s: 0 for s in f.keys()}\n",
    "    \n",
    "    yield f\n",
    "    for i in episodes:\n",
    "        tabular_mc_update(f, counts, i, lambda l: 1.0 / l)\n",
    "        yield f\n"
   ]
  },
  {
   "cell_type": "code",
   "execution_count": 222,
   "metadata": {},
   "outputs": [],
   "source": [
    "def tabular_TD_update(\n",
    "        v: TabularValueFunctionApprox[S],\n",
    "        counts: Mapping[NonTerminal[S], int],\n",
    "        transition: TransitionStep[S],\n",
    "        gamma: float,\n",
    "        learning_rate: Callable[[int], float]\n",
    "):\n",
    "    counts[transition.state] += 1\n",
    "    v[transition.state] += learning_rate(counts[transition.state]) * (transition.reward + gamma * extended_vf(v, transition.next_state) - v[transition.state])\n",
    "    return v, counts\n",
    "\n",
    "\n",
    "def tabular_TD(\n",
    "        transitions: Iterable[TransitionStep],\n",
    "        approx_0: TabularValueFunctionApprox,\n",
    "        gamma: float,\n",
    "        learning_rate: Callable[[int], float]\n",
    ") -> Iterator[TabularValueFunctionApprox[S]]:\n",
    "    f = approx_0\n",
    "    counts = {s: 0 for s in f.keys()}\n",
    "    # iterator\n",
    "    yield f\n",
    "\n",
    "    for i in transitions:\n",
    "        tabular_td_update(f, counts, i, gamma, learning_rate)\n",
    "        yield f\n"
   ]
  },
  {
   "cell_type": "code",
   "execution_count": 223,
   "metadata": {},
   "outputs": [],
   "source": [
    "# Extended value function\n",
    "def ex_v_f(v_f: TabularValueFunctionApprox[NonTerminal[S]], state: State[S]) -> float:\n",
    "    return state.on_non_terminal(lambda l: v_f[l], 0.)"
   ]
  },
  {
   "cell_type": "code",
   "execution_count": 239,
   "metadata": {},
   "outputs": [
    {
     "name": "stdout",
     "output_type": "stream",
     "text": [
      "MC\n",
      "{NonTerminal(state=InventoryState(on_hand=0, on_order=0)): -35.747948,\n",
      " NonTerminal(state=InventoryState(on_hand=0, on_order=1)): -28.17215,\n",
      " NonTerminal(state=InventoryState(on_hand=2, on_order=0)): -30.591503,\n",
      " NonTerminal(state=InventoryState(on_hand=1, on_order=1)): -29.624971,\n",
      " NonTerminal(state=InventoryState(on_hand=1, on_order=0)): -29.174665,\n",
      " NonTerminal(state=InventoryState(on_hand=0, on_order=2)): -28.618557}\n",
      "TD\n",
      "{NonTerminal(state=InventoryState(on_hand=0, on_order=0)): -35.91237,\n",
      " NonTerminal(state=InventoryState(on_hand=0, on_order=1)): -28.156545,\n",
      " NonTerminal(state=InventoryState(on_hand=2, on_order=0)): -30.2565,\n",
      " NonTerminal(state=InventoryState(on_hand=1, on_order=1)): -29.12745,\n",
      " NonTerminal(state=InventoryState(on_hand=1, on_order=0)): -28.973353,\n",
      " NonTerminal(state=InventoryState(on_hand=0, on_order=2)): -28.536343}\n",
      "MRP v_f\n",
      "{NonTerminal(state=InventoryState(on_hand=0, on_order=0)): -35.511,\n",
      " NonTerminal(state=InventoryState(on_hand=0, on_order=1)): -27.932,\n",
      " NonTerminal(state=InventoryState(on_hand=2, on_order=0)): -30.345,\n",
      " NonTerminal(state=InventoryState(on_hand=1, on_order=1)): -29.345,\n",
      " NonTerminal(state=InventoryState(on_hand=1, on_order=0)): -28.932,\n",
      " NonTerminal(state=InventoryState(on_hand=0, on_order=2)): -28.345}\n"
     ]
    }
   ],
   "source": [
    "traces = 500\n",
    "\n",
    "InventoryMRP = SimpleInventoryMRPFinite(\n",
    "    capacity = 2,\n",
    "    poisson_lambda = 1,\n",
    "    holding_cost = 1,\n",
    "    stockout_cost = 10\n",
    ")\n",
    "    \n",
    "approx_0 = {i: 0.5 for i in InventoryMRP.non_terminal_states}\n",
    "episodes = fmrp_episodes_stream(InventoryMRP)\n",
    "\n",
    "\n",
    "print(\"MC\")\n",
    "mc_v_f = tabular_MC(\n",
    "        traces = episodes,\n",
    "        approx_0 = approx_0,\n",
    "        gamma = 0.9\n",
    "    )\n",
    "v_f = iterate.last(itertools.islice(mc_v_f, traces))\n",
    "pprint({i: round(v_f[i], 6) for i in InventoryMRP.non_terminal_states})\n",
    "\n",
    "\n",
    "print(\"TD\")\n",
    "TD_len = int(round(sum(len(list(returns(\n",
    "    trace = InventoryMRP.simulate_reward(Choose(InventoryMRP.non_terminal_states)),\n",
    "    γ = 0.9,\n",
    "    tolerance = 1e-6\n",
    "))) for i in range(traces)) / traces))\n",
    "\n",
    "TD_v_f = tabular_TD(\n",
    "    unit_experiences_from_episodes(episodes, TD_len),\n",
    "    approx_0 = approx_0,\n",
    "    gamma = 0.9,\n",
    "    learning_rate = learning_rate_schedule(0.05, 500, 0.3)\n",
    ")\n",
    "v_f = iterate.last(itertools.islice(TD_v_f, traces * TD_len))\n",
    "pprint({i: round(v_f[i],6) for i in InventoryMRP.non_terminal_states})\n",
    "\n",
    "\n",
    "print(\"MRP v_f\")\n",
    "InventoryMRP.display_value_function(gamma = 0.9)"
   ]
  },
  {
   "cell_type": "code",
   "execution_count": null,
   "metadata": {},
   "outputs": [],
   "source": []
  }
 ],
 "metadata": {
  "kernelspec": {
   "display_name": "Python 3",
   "language": "python",
   "name": "python3"
  },
  "language_info": {
   "codemirror_mode": {
    "name": "ipython",
    "version": 3
   },
   "file_extension": ".py",
   "mimetype": "text/x-python",
   "name": "python",
   "nbconvert_exporter": "python",
   "pygments_lexer": "ipython3",
   "version": "3.9.6"
  },
  "vscode": {
   "interpreter": {
    "hash": "33f88445a6650c5aa5545670993382a89d43337db8ba881e33794e90389cebc1"
   }
  }
 },
 "nbformat": 4,
 "nbformat_minor": 4
}
